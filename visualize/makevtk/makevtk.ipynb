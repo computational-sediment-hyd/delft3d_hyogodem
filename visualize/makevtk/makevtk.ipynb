{
 "cells": [
  {
   "cell_type": "code",
   "execution_count": 1,
   "id": "3b1e95ac-4e37-46d3-ae4b-16efa57b992a",
   "metadata": {},
   "outputs": [],
   "source": [
    "import numpy as np\n",
    "import vtk\n",
    "import xarray as xr"
   ]
  },
  {
   "cell_type": "code",
   "execution_count": 2,
   "id": "1385ad9f-6151-4ddc-be37-76655936e585",
   "metadata": {},
   "outputs": [],
   "source": [
    "#データ出力\n",
    "# writer = vtkXMLDataObjectWriter()\n",
    "# writer.SetFileName(\"tmp.vts\")\n",
    "# writer.SetInputData(grid)\n",
    "# writer.Update()"
   ]
  },
  {
   "cell_type": "code",
   "execution_count": 2,
   "id": "2e3859ca-4689-47be-a904-a636ad94522c",
   "metadata": {},
   "outputs": [],
   "source": [
    "zcor = 10"
   ]
  },
  {
   "cell_type": "markdown",
   "id": "958dcea6",
   "metadata": {},
   "source": [
    "# 3D vtk"
   ]
  },
  {
   "cell_type": "code",
   "execution_count": 3,
   "id": "b2def2a3-15d3-4431-a195-198b77e81fc0",
   "metadata": {},
   "outputs": [],
   "source": [
    "\n",
    "def make3Dvtk(ds, outfilename, zcor):\n",
    "    dsp = ds.isel(time=-1) \n",
    "\n",
    "    points = vtk.vtkPoints()\n",
    "\n",
    "    WL = dsp['WL'].values\n",
    "    dep = dsp['WL'].values - dsp['zb'].values\n",
    "    X = dsp.xz.values\n",
    "    Y = dsp.yz.values\n",
    "\n",
    "    for sig in dsp['sigma'].values:\n",
    "        for j in range(dsp.dims.mapping['y']):\n",
    "            for i in range(dsp.dims.mapping['x']):\n",
    "                z = (WL[i,j]+dep[i,j]*sig)*zcor\n",
    "                points.InsertNextPoint(X[i,j], Y[i,j], z)\n",
    "\n",
    "    #点データをstructuredGridにセットする\n",
    "    structured_mesh = vtk.vtkStructuredGrid()\n",
    "    structured_mesh.SetExtent(0, dsp.dims.mapping['x']-1, 0, dsp.dims.mapping['y']-1, 0, dsp.dims.mapping['sigma']-1)\n",
    "    structured_mesh.SetPoints(points)\n",
    "\n",
    "    # velocity\n",
    "    arr = vtk.vtkDoubleArray()\n",
    "    arr.SetNumberOfComponents(3) \n",
    "    arr.SetNumberOfTuples((dsp.dims.mapping['x'])*(dsp.dims.mapping['y'])*(dsp.dims.mapping['sigma']))\n",
    "    arr.SetName(\"velocity\")\n",
    "\n",
    "    id = 0\n",
    "    for k in range(dsp.dims.mapping['sigma']):\n",
    "        for j in range(dsp.dims.mapping['y']):\n",
    "            for i in range(dsp.dims.mapping['x']):\n",
    "                u = dsp['VxyX'].values[k,i,j]\n",
    "                v = dsp['VxyY'].values[k,i,j]\n",
    "                w = dsp['W'].values[k,i,j]\n",
    "                # arr.InsertNextValue(u)\n",
    "                # arr.InsertNextTuple((u,v,w))\n",
    "                arr.SetTuple(id, [u,v,w])\n",
    "                id += 1\n",
    "\n",
    "    #StructuredGridのPointDataに温度データを追加\n",
    "    structured_mesh.GetPointData().AddArray(arr)\n",
    "\n",
    "    # # concentaration\n",
    "    # arr2 = vtk.vtkDoubleArray()\n",
    "    # # arr2.SetNumberOfComponents(1) \n",
    "    # # arr2.SetNumberOfTuples((dsp.dims.mapping['x'])*(dsp.dims.mapping['y'])*(dsp.dims.mapping['sigma']))\n",
    "    # arr2.SetName(\"concetration\")\n",
    "\n",
    "    # C = dsp['C'].values\n",
    "    # for k in range(dsp.dims.mapping['sigma']):\n",
    "    #     for j in range(dsp.dims.mapping['y']):\n",
    "    #         for i in range(dsp.dims.mapping['x']):\n",
    "    #             arr2.InsertNextValue(C[k,i,j])\n",
    "\n",
    "    # #StructuredGridのPointDataに温度データを追加\n",
    "    # structured_mesh.GetPointData().AddArray(arr2)\n",
    "\n",
    "    writer = vtk.vtkXMLDataObjectWriter()\n",
    "    writer.SetFileName(outfilename)     #出力ファイル名\n",
    "    # writer.SetFileName(\"tmp01.vts\")\n",
    "    writer.SetInputData(structured_mesh)\n",
    "    writer.Update()\n",
    "\n",
    "\n",
    "ds = xr.open_dataset('../out_cellcenter01.nc')\n",
    "d = make3Dvtk(ds, 'flowprof01.vts', zcor)\n",
    "\n",
    "ds = xr.open_dataset('../out_cellcenter02.nc')\n",
    "d = make3Dvtk(ds, 'flowprof02.vts', zcor)"
   ]
  },
  {
   "cell_type": "code",
   "execution_count": null,
   "id": "e0b435e5",
   "metadata": {},
   "outputs": [],
   "source": []
  },
  {
   "cell_type": "code",
   "execution_count": null,
   "id": "7d4b2427-139d-40ff-907a-4ac95c303973",
   "metadata": {},
   "outputs": [],
   "source": []
  },
  {
   "cell_type": "markdown",
   "id": "cc8f2253",
   "metadata": {},
   "source": [
    "# 2D vtk"
   ]
  },
  {
   "cell_type": "code",
   "execution_count": 4,
   "id": "ee981ebc",
   "metadata": {},
   "outputs": [],
   "source": [
    "def make2Dvtk(ds, outWLname, outZbname):\n",
    "    dsp = ds.isel(time=-1)\n",
    "\n",
    "    points = vtk.vtkPoints()\n",
    "    points2 = vtk.vtkPoints()\n",
    "\n",
    "    WL = dsp['WL'].values\n",
    "    zb = dsp['zb'].values\n",
    "    X = dsp.xz.values\n",
    "    Y = dsp.yz.values\n",
    "\n",
    "    for j in range(dsp.dims.mapping['y']):\n",
    "        for i in range(dsp.dims.mapping['x']):\n",
    "            points.InsertNextPoint(X[i,j], Y[i,j], WL[i,j]*zcor)\n",
    "            points2.InsertNextPoint(X[i,j], Y[i,j], zb[i,j]*zcor)\n",
    "\n",
    "#点データをstructuredGridにセットする\n",
    "    structured_mesh = vtk.vtkStructuredGrid()\n",
    "    structured_mesh.SetExtent(0, dsp.dims.mapping['x']-1, 0, dsp.dims.mapping['y']-1, 0, 0)\n",
    "    structured_mesh.SetPoints(points)\n",
    "\n",
    "    writer = vtk.vtkXMLDataObjectWriter()\n",
    "    writer.SetFileName(outWLname)\n",
    "    writer.SetInputData(structured_mesh)\n",
    "    writer.Update()\n",
    "\n",
    "    structured_mesh2 = vtk.vtkStructuredGrid()\n",
    "    structured_mesh2.SetExtent(0, dsp.dims.mapping['x']-1, 0, dsp.dims.mapping['y']-1, 0, 0)\n",
    "    structured_mesh2.SetPoints(points2)\n",
    "\n",
    "    writer2 = vtk.vtkXMLDataObjectWriter()\n",
    "    writer2.SetFileName(outZbname)\n",
    "    writer2.SetInputData(structured_mesh2)\n",
    "    writer2.Update()\n",
    "\n",
    "ds = xr.open_dataset('../out_cellcenter01.nc')\n",
    "d = make2Dvtk(ds,\"WL01.vts\", \"Zb01.vts\")\n",
    "\n",
    "ds = xr.open_dataset('../out_cellcenter02.nc')\n",
    "d = make2Dvtk(ds, \"WL02.vts\", \"Zb02.vts\")"
   ]
  },
  {
   "cell_type": "code",
   "execution_count": null,
   "id": "0a612072",
   "metadata": {},
   "outputs": [],
   "source": []
  },
  {
   "cell_type": "code",
   "execution_count": null,
   "id": "374fb79e",
   "metadata": {},
   "outputs": [],
   "source": []
  },
  {
   "cell_type": "code",
   "execution_count": null,
   "id": "5af2dde2",
   "metadata": {},
   "outputs": [],
   "source": []
  },
  {
   "cell_type": "code",
   "execution_count": null,
   "id": "068513c3",
   "metadata": {},
   "outputs": [],
   "source": []
  },
  {
   "cell_type": "code",
   "execution_count": null,
   "id": "e582b5d3",
   "metadata": {},
   "outputs": [],
   "source": []
  },
  {
   "cell_type": "code",
   "execution_count": null,
   "id": "b06d5527",
   "metadata": {},
   "outputs": [],
   "source": []
  },
  {
   "cell_type": "code",
   "execution_count": null,
   "id": "1e9b1f23",
   "metadata": {},
   "outputs": [],
   "source": []
  },
  {
   "cell_type": "code",
   "execution_count": null,
   "id": "1a1b7995",
   "metadata": {},
   "outputs": [],
   "source": []
  },
  {
   "cell_type": "code",
   "execution_count": null,
   "id": "434763e4",
   "metadata": {},
   "outputs": [],
   "source": []
  },
  {
   "cell_type": "code",
   "execution_count": null,
   "id": "c733ad08-b216-4a03-97fe-9cbc79e12670",
   "metadata": {},
   "outputs": [],
   "source": []
  },
  {
   "cell_type": "code",
   "execution_count": null,
   "id": "2093d987-0b74-4051-8774-7d06645e6891",
   "metadata": {},
   "outputs": [],
   "source": []
  },
  {
   "cell_type": "code",
   "execution_count": null,
   "id": "0b9f0c49-140e-43fe-aa0f-b88d6972461b",
   "metadata": {},
   "outputs": [],
   "source": []
  },
  {
   "cell_type": "code",
   "execution_count": null,
   "id": "388b558d-c37e-443c-b45e-6b03115a1a3e",
   "metadata": {},
   "outputs": [],
   "source": []
  },
  {
   "cell_type": "code",
   "execution_count": null,
   "id": "abcbe0eb-972f-408e-91b4-b5dc32840905",
   "metadata": {},
   "outputs": [],
   "source": []
  },
  {
   "cell_type": "code",
   "execution_count": 10,
   "id": "f51bc4ce-6375-4eee-8e76-15e6b0e97ddf",
   "metadata": {},
   "outputs": [],
   "source": [
    "points = vtk.vtkPoints()\n",
    "\n",
    "# it = 8\n",
    "# dsp = ds.isel(time=it)\n",
    "WL = dsp['WL'].values\n",
    "dep = dsp['WL'].values - dsp['zb'].values\n",
    "X = dsp.xz.values\n",
    "Y = dsp.yz.values\n",
    "\n",
    "Xt, Yt, Zt = [], [], []\n",
    "for i in range(dsp.dims.mapping['x']):\n",
    "    for j in range(dsp.dims.mapping['y']):\n",
    "        for sig in dsp['sigma'].values:\n",
    "            z = WL[i,j]+dep[i,j]*sig*zcor\n",
    "            points.InsertNextPoint(X[i,j], Y[i,j], z)\n",
    "            # Xt.append(X[i,j])\n",
    "            # Yt.append(Y[i,j])\n",
    "            # Zt.append(z*100)\n",
    "\n",
    "#点データをstructuredGridにセットする\n",
    "structured_mesh = vtk.vtkStructuredGrid()\n",
    "structured_mesh.SetExtent(0, dsp.dims.mapping['x']-1, 0, dsp.dims.mapping['y']-1, 0, dsp.dims.mapping['sigma']-1)\n",
    "structured_mesh.SetPoints(points)\n",
    "\n",
    "arr = vtk.vtkDoubleArray()\n",
    "arr.SetNumberOfComponents(3) \n",
    "arr.SetNumberOfTuples((dsp.dims.mapping['x'])*(dsp.dims.mapping['y'])*(dsp.dims.mapping['sigma']))\n",
    "arr.SetName(\"velocity\")\n",
    "\n",
    "id = 0\n",
    "for i in range(dsp.dims.mapping['x']):\n",
    "    for j in range(dsp.dims.mapping['y']):\n",
    "        for k in range(dsp.dims.mapping['sigma']):\n",
    "            u = dsp['VxyX'].values[k,i,j]\n",
    "            v = dsp['VxyY'].values[k,i,j]\n",
    "            w = dsp['W'].values[k,i,j]\n",
    "            # arr.InsertNextValue(u)\n",
    "            # arr.InsertNextTuple((u,v,w))\n",
    "            arr.SetTuple(id, [u,v,w])\n",
    "            id += 1\n",
    "\n",
    "#StructuredGridのPointDataに温度データを追加\n",
    "structured_mesh.GetPointData().AddArray(arr)\n",
    "\n",
    "writer = vtk.vtkXMLDataObjectWriter()\n",
    "writer.SetFileName(\"tmp02.vts\")\n",
    "writer.SetInputData(structured_mesh)\n",
    "writer.Update()"
   ]
  },
  {
   "cell_type": "code",
   "execution_count": null,
   "id": "64a43645-6e63-4b57-86c2-c3f1e368d61c",
   "metadata": {},
   "outputs": [],
   "source": []
  },
  {
   "cell_type": "code",
   "execution_count": 9,
   "id": "bd3c7606-54f7-47b4-9f6c-0596b3702cbf",
   "metadata": {},
   "outputs": [],
   "source": [
    "# writer = vtk.vtkXMLStructuredGridWriter()\n",
    "writer =vtk.vtkDataSetWriter()\n",
    "writer.SetFileName(\"tmp5.vtk\")\n",
    "writer.SetInputData(structured_mesh)\n",
    "writer.Update()"
   ]
  },
  {
   "cell_type": "code",
   "execution_count": null,
   "id": "d499c2bb-2f58-4eb2-9dce-cae79ea2144a",
   "metadata": {},
   "outputs": [],
   "source": []
  }
 ],
 "metadata": {
  "kernelspec": {
   "display_name": "vtk",
   "language": "python",
   "name": "python3"
  },
  "language_info": {
   "codemirror_mode": {
    "name": "ipython",
    "version": 3
   },
   "file_extension": ".py",
   "mimetype": "text/x-python",
   "name": "python",
   "nbconvert_exporter": "python",
   "pygments_lexer": "ipython3",
   "version": "3.12.4"
  }
 },
 "nbformat": 4,
 "nbformat_minor": 5
}
